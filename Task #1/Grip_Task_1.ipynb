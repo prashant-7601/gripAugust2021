{
  "nbformat": 4,
  "nbformat_minor": 0,
  "metadata": {
    "colab": {
      "name": "Grip Task #1.ipynb",
      "provenance": [],
      "collapsed_sections": []
    },
    "kernelspec": {
      "name": "python3",
      "display_name": "Python 3"
    },
    "language_info": {
      "name": "python"
    }
  },
  "cells": [
    {
      "cell_type": "markdown",
      "metadata": {
        "id": "QzirzkUB-3yN"
      },
      "source": [
        "# **Name: Prashant Arya**\n",
        "# **College: Graphic Era University, Dehradun**"
      ]
    },
    {
      "cell_type": "markdown",
      "metadata": {
        "id": "-dO2XAtaxek-"
      },
      "source": [
        "# **Linear Regression**\n",
        "\n",
        "Linear regression attempts to model the relationship between two variables by fitting a linear equation to observed data.\n",
        "\n",
        "\n",
        "\n"
      ]
    },
    {
      "cell_type": "code",
      "metadata": {
        "id": "PohJFmmOS8fD"
      },
      "source": [
        "#importing libraries\n",
        "import pandas as pd\n",
        "import numpy as np\n",
        "import matplotlib.pyplot as plt"
      ],
      "execution_count": 1,
      "outputs": []
    },
    {
      "cell_type": "code",
      "metadata": {
        "id": "TqiSyZ_cT2Xx",
        "colab": {
          "base_uri": "https://localhost:8080/",
          "height": 204
        },
        "outputId": "74861f67-9d50-470d-c83c-e5bff1cfcc5d"
      },
      "source": [
        "#importing dataset\n",
        "df = pd.read_csv(\"/content/student_scores.csv\")\n",
        "df.head()"
      ],
      "execution_count": 2,
      "outputs": [
        {
          "output_type": "execute_result",
          "data": {
            "text/html": [
              "<div>\n",
              "<style scoped>\n",
              "    .dataframe tbody tr th:only-of-type {\n",
              "        vertical-align: middle;\n",
              "    }\n",
              "\n",
              "    .dataframe tbody tr th {\n",
              "        vertical-align: top;\n",
              "    }\n",
              "\n",
              "    .dataframe thead th {\n",
              "        text-align: right;\n",
              "    }\n",
              "</style>\n",
              "<table border=\"1\" class=\"dataframe\">\n",
              "  <thead>\n",
              "    <tr style=\"text-align: right;\">\n",
              "      <th></th>\n",
              "      <th>Hours</th>\n",
              "      <th>Scores</th>\n",
              "    </tr>\n",
              "  </thead>\n",
              "  <tbody>\n",
              "    <tr>\n",
              "      <th>0</th>\n",
              "      <td>2.5</td>\n",
              "      <td>21</td>\n",
              "    </tr>\n",
              "    <tr>\n",
              "      <th>1</th>\n",
              "      <td>5.1</td>\n",
              "      <td>47</td>\n",
              "    </tr>\n",
              "    <tr>\n",
              "      <th>2</th>\n",
              "      <td>3.2</td>\n",
              "      <td>27</td>\n",
              "    </tr>\n",
              "    <tr>\n",
              "      <th>3</th>\n",
              "      <td>8.5</td>\n",
              "      <td>75</td>\n",
              "    </tr>\n",
              "    <tr>\n",
              "      <th>4</th>\n",
              "      <td>3.5</td>\n",
              "      <td>30</td>\n",
              "    </tr>\n",
              "  </tbody>\n",
              "</table>\n",
              "</div>"
            ],
            "text/plain": [
              "   Hours  Scores\n",
              "0    2.5      21\n",
              "1    5.1      47\n",
              "2    3.2      27\n",
              "3    8.5      75\n",
              "4    3.5      30"
            ]
          },
          "metadata": {},
          "execution_count": 2
        }
      ]
    },
    {
      "cell_type": "code",
      "metadata": {
        "id": "_GkfM8L-VzGa"
      },
      "source": [
        "#separating the input and outut values\n",
        "x = df['Hours']\n",
        "y = df['Scores']"
      ],
      "execution_count": 3,
      "outputs": []
    },
    {
      "cell_type": "markdown",
      "metadata": {
        "id": "7vhxQi8x0mDr"
      },
      "source": [
        "# **Procedure**\n",
        "Given n inputs and outputs, we have points (x1, y1), (x2, y2),... (xn, yn) scattered over the graph. Now we need to find a line of best fit which passes at the minimum distance from all the points. \n",
        "We define the line of best fit as Y = mX + c, where m and c are weights while Y and X are coordinates of any point on the graph."
      ]
    },
    {
      "cell_type": "code",
      "metadata": {
        "colab": {
          "base_uri": "https://localhost:8080/",
          "height": 265
        },
        "id": "Qc_8duldcpqR",
        "outputId": "62e8006f-62fd-49a8-d427-7a674d40320f"
      },
      "source": [
        "#visualizing our data\n",
        "for i, j in zip(x, y):\n",
        "  plt.scatter(i, j)"
      ],
      "execution_count": 4,
      "outputs": [
        {
          "output_type": "display_data",
          "data": {
            "image/png": "[encoded data removed]",
            "text/plain": [
              "<Figure size 432x288 with 1 Axes>"
            ]
          },
          "metadata": {
            "needs_background": "light"
          }
        }
      ]
    },
    {
      "cell_type": "markdown",
      "metadata": {
        "id": "3maNVU-T19nK"
      },
      "source": [
        "The weights w1 and w0 can be derived by using the cost function of equation of the line of best fit. On partially derivating the equation with respect to w1 and w0 we will get the equations for w1 and w0."
      ]
    },
    {
      "cell_type": "code",
      "metadata": {
        "id": "fMOir_U601rS"
      },
      "source": [
        "def findW1(x, y):\n",
        "  \"\"\"\n",
        "  This function takes the list of \n",
        "  inputs (x) and outputs (y) and \n",
        "  returns the value of weight w1.\n",
        "  \"\"\"\n",
        "  num = np.sum(x*y - np.mean(y)*x)\n",
        "  den = np.sum(x*x - np.mean(x)*x)\n",
        "  return num/den"
      ],
      "execution_count": 5,
      "outputs": []
    },
    {
      "cell_type": "code",
      "metadata": {
        "id": "suMqkySO02Hj"
      },
      "source": [
        "def findW0(x, y):\n",
        "  \"\"\"\n",
        "  This function takes the list of \n",
        "  inputs (x) and outputs (y) and \n",
        "  returns the value of weight w0.\n",
        "  \"\"\"\n",
        "  return np.mean(y) - findW1(x, y) * np.mean(x)"
      ],
      "execution_count": 6,
      "outputs": []
    },
    {
      "cell_type": "code",
      "metadata": {
        "id": "JS0Q8G8iWygP"
      },
      "source": [
        "w1 = findW1(x, y)\n",
        "w0 = findW0(x, y)"
      ],
      "execution_count": 7,
      "outputs": []
    },
    {
      "cell_type": "markdown",
      "metadata": {
        "id": "KveTDFTV2ihC"
      },
      "source": [
        "Now by using the values of weights w1 and w0 for each data point, we can get the points lying on the line of best fit. Use these points to plot the line of best fit."
      ]
    },
    {
      "cell_type": "code",
      "metadata": {
        "colab": {
          "base_uri": "https://localhost:8080/",
          "height": 282
        },
        "id": "qhKfFTE4XXi_",
        "outputId": "de6b7b2d-86db-4856-8453-cd3be7afdc06"
      },
      "source": [
        "#plot the line of best fit\n",
        "xpl = []\n",
        "ypl = []\n",
        "for i, j in zip(x, y):\n",
        "  plt.scatter(i, j)\n",
        "  xpl.append(i)\n",
        "  ypl.append(i*w1 + w0)\n",
        "plt.plot(xpl, ypl)"
      ],
      "execution_count": 8,
      "outputs": [
        {
          "output_type": "execute_result",
          "data": {
            "text/plain": [
              "[<matplotlib.lines.Line2D at 0x7fd65251dd90>]"
            ]
          },
          "metadata": {},
          "execution_count": 8
        },
        {
          "output_type": "display_data",
          "data": {
            "image/png": "[encoded data removed]",
            "text/plain": [
              "<Figure size 432x288 with 1 Axes>"
            ]
          },
          "metadata": {
            "needs_background": "light"
          }
        }
      ]
    },
    {
      "cell_type": "markdown",
      "metadata": {
        "id": "RHeRdPyr25yp"
      },
      "source": [
        "The weights calculated above can now be used to predict the output when inputs are provided by user."
      ]
    },
    {
      "cell_type": "code",
      "metadata": {
        "colab": {
          "base_uri": "https://localhost:8080/"
        },
        "id": "bNHb8yKsYWUJ",
        "outputId": "614b6ef8-3879-4ab1-fb91-535fd171d559"
      },
      "source": [
        "#predicting scores based on hours of study\n",
        "print(\"Enter a negative number to exit!\\n\")\n",
        "while True:\n",
        "  try:\n",
        "    hours = float(input(\"Enter hours: \"))\n",
        "    if(hours < 0.0):\n",
        "      break\n",
        "    print(\"Predicted score: \", hours*w1 + w0)\n",
        "    print(\"\\n\")\n",
        "  except:\n",
        "    print(\"\\nInvalid input!\\n\")\n",
        "    break\n",
        "print(\"\\nExit successfully!\")"
      ],
      "execution_count": 10,
      "outputs": [
        {
          "output_type": "stream",
          "text": [
            "Enter a negative number to exit!\n",
            "\n",
            "Enter hours: 6.1\n",
            "Predicted score:  62.11607408917676\n",
            "\n",
            "\n",
            "Enter hours: 9.1\n",
            "Predicted score:  91.44348426153917\n",
            "\n",
            "\n",
            "Enter hours: -2\n",
            "\n",
            "Exit successfully!\n"
          ],
          "name": "stdout"
        }
      ]
    },
    {
      "cell_type": "code",
      "metadata": {
        "id": "ak3-xNQCAx00"
      },
      "source": [
        ""
      ],
      "execution_count": null,
      "outputs": []
    }
  ]
}